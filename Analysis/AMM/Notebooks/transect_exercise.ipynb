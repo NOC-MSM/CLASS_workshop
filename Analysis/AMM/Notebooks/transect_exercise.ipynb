{
 "cells": [
  {
   "cell_type": "markdown",
   "id": "ade317c1-0caa-4aab-a846-3f470d37146c",
   "metadata": {},
   "source": [
    "## COAST Transect Calculations\n",
    "Exercise for calcualting temperature, velocities and transport along a transect.\n",
    "\n",
    "#### Scripting - set paths and import modules\n",
    "Begin with module imports."
   ]
  },
  {
   "cell_type": "code",
   "execution_count": 5,
   "id": "da5099ce-0831-41d5-8945-fadd5eef8065",
   "metadata": {},
   "outputs": [],
   "source": [
    "import warnings\n",
    "warnings.filterwarnings('ignore')\n",
    "\n",
    "import coast\n",
    "import matplotlib.pyplot as plt"
   ]
  },
  {
   "cell_type": "markdown",
   "id": "ab4969f8-1778-4461-b0ef-1f65c8352f37",
   "metadata": {},
   "source": [
    "Set model paths"
   ]
  },
  {
   "cell_type": "code",
   "execution_count": 2,
   "id": "a5147e82-708f-412e-9e4b-a9af380841a6",
   "metadata": {},
   "outputs": [],
   "source": [
    "path = \"/gws/nopw/j04/jmmp/tmp_slwa/AMM7_SSB_sample/\"\n",
    "path = \"/gws/pw/j07/workshop/users/train006/AMM7_SSB_sample/\"\n",
    "model_path_t = path +  \"amm7_1d_20040101_20040131_grid_T.nc\"\n",
    "model_path_u = path +  \"amm7_1d_20040101_20040131_grid_U.nc\"\n",
    "model_path_v = path +  \"amm7_1d_20040101_20040131_grid_V.nc\"\n",
    "jmmp_path = \"/gws/nopw/j04/jmmp/\"\n",
    "domcfg_path = path + \"amm7_SSB_mesh_mask.nc\""
   ]
  },
  {
   "cell_type": "markdown",
   "id": "1ba0521b-051e-47dd-b446-d7e21c85201b",
   "metadata": {},
   "source": [
    "Set coast config paths"
   ]
  },
  {
   "cell_type": "code",
   "execution_count": 3,
   "id": "607c9120-9e71-442d-8443-7a3a491fd25c",
   "metadata": {},
   "outputs": [],
   "source": [
    "cfg_path = \"/home/users/ryapat30/NOC/COAsT/config/\"\n",
    "nemo_t_json = cfg_path + \"example_nemo_grid_t.json\"\n",
    "nemo_u_json = cfg_path + \"example_nemo_grid_u.json\"\n",
    "nemo_v_json = cfg_path + \"example_nemo_grid_v.json\"\n",
    "nemo_f_json = cfg_path + \"example_nemo_grid_v.json\""
   ]
  },
  {
   "cell_type": "markdown",
   "id": "dd47d3f6-fefd-4cae-a656-fdf4f1a84a9d",
   "metadata": {},
   "source": [
    "Assign NEMO output to Gridded object to each position on the Awarkara C-Grid. These consist of:\n",
    "\n",
    "- T-Grid for tracer points at the cell centres\n",
    "- U-Grid for velocity points on the western cell edge\n",
    "- V-Grid for velocity points on the southern cell edge\n",
    "- F-Grid for vorticity/Coriolis points on the south-western cell corners"
   ]
  },
  {
   "cell_type": "code",
   "execution_count": 7,
   "id": "e2f8931f-6890-4680-8b5e-1b0769f1dbdc",
   "metadata": {},
   "outputs": [
    {
     "ename": "AttributeError",
     "evalue": "'Gridded' object has no attribute 'config'",
     "output_type": "error",
     "traceback": [
      "\u001b[0;31m---------------------------------------------------------------------------\u001b[0m",
      "\u001b[0;31mAttributeError\u001b[0m                            Traceback (most recent call last)",
      "Cell \u001b[0;32mIn[7], line 1\u001b[0m\n\u001b[0;32m----> 1\u001b[0m nemo_t \u001b[38;5;241m=\u001b[39m \u001b[43mcoast\u001b[49m\u001b[38;5;241;43m.\u001b[39;49m\u001b[43mGridded\u001b[49m\u001b[43m(\u001b[49m\u001b[43mmodel_path_t\u001b[49m\u001b[43m,\u001b[49m\u001b[43m \u001b[49m\u001b[43mdomcfg_path\u001b[49m\u001b[43m,\u001b[49m\u001b[43m \u001b[49m\u001b[43mconfig\u001b[49m\u001b[38;5;241;43m=\u001b[39;49m\u001b[43mnemo_t_json\u001b[49m\u001b[43m)\u001b[49m\n\u001b[1;32m      2\u001b[0m nemo_u \u001b[38;5;241m=\u001b[39m coast\u001b[38;5;241m.\u001b[39mGridded(model_path_u, domcfg_path, config\u001b[38;5;241m=\u001b[39mnemo_u_json)\n\u001b[1;32m      3\u001b[0m nemo_v \u001b[38;5;241m=\u001b[39m coast\u001b[38;5;241m.\u001b[39mGridded(model_path_v, domcfg_path, config\u001b[38;5;241m=\u001b[39mnemo_v_json)\n",
      "File \u001b[0;32m~/.conda/envs/coast_wrk_shp/lib/python3.10/site-packages/coast/data/gridded.py:60\u001b[0m, in \u001b[0;36mGridded.__init__\u001b[0;34m(self, fn_data, fn_domain, multiple, config, workers, threads, memory_limit_per_worker, **kwargs)\u001b[0m\n\u001b[1;32m     58\u001b[0m \u001b[38;5;28;01mif\u001b[39;00m \u001b[38;5;28mself\u001b[39m\u001b[38;5;241m.\u001b[39mfn_domain \u001b[38;5;129;01mis\u001b[39;00m \u001b[38;5;129;01mnot\u001b[39;00m \u001b[38;5;28;01mNone\u001b[39;00m:\n\u001b[1;32m     59\u001b[0m     \u001b[38;5;28mself\u001b[39m\u001b[38;5;241m.\u001b[39mfilename_domain \u001b[38;5;241m=\u001b[39m \u001b[38;5;28mself\u001b[39m\u001b[38;5;241m.\u001b[39mfn_domain\n\u001b[0;32m---> 60\u001b[0m     dataset_domain \u001b[38;5;241m=\u001b[39m \u001b[38;5;28;43mself\u001b[39;49m\u001b[38;5;241;43m.\u001b[39;49m\u001b[43mload_domain\u001b[49m\u001b[43m(\u001b[49m\u001b[38;5;28;43mself\u001b[39;49m\u001b[38;5;241;43m.\u001b[39;49m\u001b[43mfn_domain\u001b[49m\u001b[43m,\u001b[49m\u001b[43m \u001b[49m\u001b[38;5;28;43;01mNone\u001b[39;49;00m\u001b[43m)\u001b[49m\n\u001b[1;32m     61\u001b[0m     \u001b[38;5;28mself\u001b[39m\u001b[38;5;241m.\u001b[39mdataset[\u001b[38;5;124m\"\u001b[39m\u001b[38;5;124mdomain\u001b[39m\u001b[38;5;124m\"\u001b[39m] \u001b[38;5;241m=\u001b[39m dataset_domain\n",
      "File \u001b[0;32m~/.conda/envs/coast_wrk_shp/lib/python3.10/site-packages/coast/data/gridded.py:145\u001b[0m, in \u001b[0;36mGridded.load_domain\u001b[0;34m(self, fn_domain, chunks)\u001b[0m\n\u001b[1;32m    143\u001b[0m \u001b[38;5;28mself\u001b[39m\u001b[38;5;241m.\u001b[39mdomain_loaded \u001b[38;5;241m=\u001b[39m \u001b[38;5;28;01mTrue\u001b[39;00m\n\u001b[1;32m    144\u001b[0m \u001b[38;5;66;03m# Rename dimensions\u001b[39;00m\n\u001b[0;32m--> 145\u001b[0m \u001b[38;5;28;01mfor\u001b[39;00m key, value \u001b[38;5;129;01min\u001b[39;00m \u001b[38;5;28;43mself\u001b[39;49m\u001b[38;5;241;43m.\u001b[39;49m\u001b[43mconfig\u001b[49m\u001b[38;5;241m.\u001b[39mdomain\u001b[38;5;241m.\u001b[39mdimension_map\u001b[38;5;241m.\u001b[39mitems():\n\u001b[1;32m    146\u001b[0m     mapping \u001b[38;5;241m=\u001b[39m {key: value}\n\u001b[1;32m    147\u001b[0m     \u001b[38;5;28;01mtry\u001b[39;00m:\n",
      "\u001b[0;31mAttributeError\u001b[0m: 'Gridded' object has no attribute 'config'"
     ]
    }
   ],
   "source": [
    "nemo_t = coast.Gridded(model_path_t, domcfg_path, config=nemo_t_json)\n",
    "nemo_u = coast.Gridded(model_path_u, domcfg_path, config=nemo_u_json)\n",
    "nemo_v = coast.Gridded(model_path_v, domcfg_path, config=nemo_v_json)\n",
    "nemo_f = coast.Gridded(fn_domain=domcfg_path, config=nemo_f_json)"
   ]
  },
  {
   "cell_type": "markdown",
   "id": "1cd11879-cf6f-4f6e-9020-3c2115d2810d",
   "metadata": {},
   "source": [
    "Get transects at T and F points."
   ]
  },
  {
   "cell_type": "code",
   "execution_count": null,
   "id": "464cc188-60c6-4c82-8107-4173abfb901d",
   "metadata": {},
   "outputs": [],
   "source": [
    "tran_t = coast.TransectT(nemo_t, (54, -15), (56, -12))\n",
    "tran_f = coast.TransectF(nemo_f, (54, -15), (56, -12))"
   ]
  },
  {
   "cell_type": "markdown",
   "id": "ab3b8f16-6490-48d6-95fc-3aaabf2c5a69",
   "metadata": {},
   "source": [
    "Add velociites normal to to transect."
   ]
  },
  {
   "cell_type": "code",
   "execution_count": null,
   "id": "01bd943d-cb1d-4790-8725-827ee70f3a03",
   "metadata": {},
   "outputs": [],
   "source": [
    "tran_f.calc_flow_across_transect(nemo_u, nemo_v)"
   ]
  },
  {
   "cell_type": "markdown",
   "id": "d6de02af-d721-4f39-bac5-9318069897a4",
   "metadata": {},
   "source": [
    "### Plotting"
   ]
  },
  {
   "cell_type": "markdown",
   "id": "47087538-4914-42ed-904f-7d879cdd9532",
   "metadata": {},
   "source": [
    "#### Plot Time-Mean Temperature Along Extracted Transect"
   ]
  },
  {
   "cell_type": "markdown",
   "id": "6fe3f71c-6dc4-49fb-ba5c-5651c175c872",
   "metadata": {},
   "source": [
    "Alias temperature variable."
   ]
  },
  {
   "cell_type": "code",
   "execution_count": null,
   "id": "4a7faed4-bf3e-46e2-be88-960518e58b2a",
   "metadata": {},
   "outputs": [],
   "source": [
    "temp = tran_t.data.temperature"
   ]
  },
  {
   "cell_type": "markdown",
   "id": "32560497-567f-4f7b-be13-06fea4d89574",
   "metadata": {},
   "source": [
    "Take time-mean of temperature transect."
   ]
  },
  {
   "cell_type": "code",
   "execution_count": null,
   "id": "11924d62-1670-43d3-8366-c274016a7010",
   "metadata": {},
   "outputs": [],
   "source": [
    "temp_mean = temp.mean(dim=\"t_dim\")"
   ]
  },
  {
   "cell_type": "markdown",
   "id": "3f2e42c3-1657-4d57-9d41-43735069efbd",
   "metadata": {},
   "source": [
    "Plot time-mean temperature along transect."
   ]
  },
  {
   "cell_type": "code",
   "execution_count": null,
   "id": "641c20c9-bf5c-4a4f-92b5-8c9805bb7532",
   "metadata": {},
   "outputs": [],
   "source": [
    "temp_mean.plot.pcolormesh(y=\"depth_0\", yincrease=False)"
   ]
  },
  {
   "cell_type": "markdown",
   "id": "62f7bc51-ac8d-469f-b4e6-03e34b656b2e",
   "metadata": {},
   "source": [
    "#### Plot Time-Mean velocities normal to the transect"
   ]
  },
  {
   "cell_type": "markdown",
   "id": "6e7086d0-e76c-4b6d-92af-bd49a11d562a",
   "metadata": {},
   "source": [
    "Alias normal velocites."
   ]
  },
  {
   "cell_type": "code",
   "execution_count": null,
   "id": "fbc6f813-9f47-4b59-a4f1-1972f4984cd1",
   "metadata": {},
   "outputs": [],
   "source": [
    "cross_vel = tran_f.data_cross_tran_flow.normal_velocities"
   ]
  },
  {
   "cell_type": "markdown",
   "id": "38a4befc-81d1-4b7a-9d53-f8c4cfb2b77a",
   "metadata": {},
   "source": [
    "Take time-mean of velocity transect."
   ]
  },
  {
   "cell_type": "code",
   "execution_count": null,
   "id": "5725a960-1e3a-498b-abb1-fbff11a314cb",
   "metadata": {},
   "outputs": [],
   "source": [
    "cross_vel_mean = cross_vel.mean(dim=\"t_dim\")"
   ]
  },
  {
   "cell_type": "markdown",
   "id": "e62c6b74-8d9c-45c7-9877-e50c4aeac9da",
   "metadata": {},
   "source": [
    "Plot time-mean cross transect velocities"
   ]
  },
  {
   "cell_type": "code",
   "execution_count": null,
   "id": "6b206f83-8342-4cb1-ade2-9c3374621af8",
   "metadata": {},
   "outputs": [],
   "source": [
    "cross_vel_mean.plot.pcolormesh(yincrease=False, y=\"depth_0\", cbar_kwargs={\"label\": \"m/s\"})"
   ]
  },
  {
   "cell_type": "markdown",
   "id": "6cc2cec8-1926-4ed1-9821-77ae705bc625",
   "metadata": {},
   "source": [
    "#### Plot Time-Mean Volume Transport Accoss Transect"
   ]
  },
  {
   "cell_type": "markdown",
   "id": "0dadd4b0-c657-480d-bd9c-333cb9f09499",
   "metadata": {},
   "source": [
    "Alias transport normal to transect."
   ]
  },
  {
   "cell_type": "code",
   "execution_count": null,
   "id": "adf215f1-cb6e-47aa-9b52-197de577dc59",
   "metadata": {},
   "outputs": [],
   "source": [
    "cross_transport = tran_f.data_cross_tran_flow.normal_transports"
   ]
  },
  {
   "cell_type": "markdown",
   "id": "d6abcd46-86ae-41ea-9dcd-da2908010ced",
   "metadata": {},
   "source": [
    "Take time mean."
   ]
  },
  {
   "cell_type": "code",
   "execution_count": null,
   "id": "615675a8-ab51-4f54-9da3-f23b7ff45cd5",
   "metadata": {},
   "outputs": [],
   "source": [
    "cross_transport_mean = cross_transport.mean(dim=\"t_dim\")"
   ]
  },
  {
   "cell_type": "markdown",
   "id": "100e26b6-8f34-433d-ac76-30c620f9dd53",
   "metadata": {},
   "source": [
    "Plot cross transect transport."
   ]
  },
  {
   "cell_type": "code",
   "execution_count": null,
   "id": "fc2977a6-8753-4b42-aa1b-1db39db64b38",
   "metadata": {},
   "outputs": [],
   "source": [
    "cross_transport_mean.plot()\n",
    "plt.ylabel(\"Sv\")"
   ]
  },
  {
   "cell_type": "markdown",
   "id": "b8a6c1fe-7554-474e-9fa3-38a8073b4607",
   "metadata": {},
   "source": [
    "The above creates a noisy field due to a zig-zag path taken by the transect."
   ]
  },
  {
   "cell_type": "code",
   "execution_count": null,
   "id": "41f675a9-7f04-4c4f-becf-2ad835882cb2",
   "metadata": {},
   "outputs": [],
   "source": [
    "cross_transport_mean"
   ]
  }
 ],
 "metadata": {
  "kernelspec": {
   "display_name": "coast_wrk_shp",
   "language": "python",
   "name": "coast_wrk_shp"
  },
  "language_info": {
   "codemirror_mode": {
    "name": "ipython",
    "version": 3
   },
   "file_extension": ".py",
   "mimetype": "text/x-python",
   "name": "python",
   "nbconvert_exporter": "python",
   "pygments_lexer": "ipython3",
   "version": "3.10.13"
  }
 },
 "nbformat": 4,
 "nbformat_minor": 5
}
