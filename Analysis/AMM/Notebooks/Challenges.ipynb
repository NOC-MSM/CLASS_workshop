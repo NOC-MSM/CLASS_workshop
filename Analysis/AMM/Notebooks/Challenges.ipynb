{
 "cells": [
  {
   "cell_type": "markdown",
   "id": "1115968b-c397-4025-b67b-9d54a60a9d61",
   "metadata": {},
   "source": [
    "## COAsT Challenges\n",
    "Use COAsT to do some problem solving.\n",
    "\n",
    "Friday morning will include group presentations on outcomes from this activity. Use COAsT to tackle the following challenges and report back on your findings. Presentations should include information on the journey taken when investigating the problem."
   ]
  },
  {
   "cell_type": "markdown",
   "id": "ac5e503b-5504-4bc7-b1ba-5fc94e4e57b1",
   "metadata": {},
   "source": [
    "### Challenge 1\n",
    "Find the transect with the lowest net transport over a month that is greater than 5 km in length. Use the transect example notebook as a starting point.\n",
    "\n",
    "Hint: areas of opposing currents may be better than regions of low flow."
   ]
  },
  {
   "cell_type": "markdown",
   "id": "1df9c2fe-56b1-4bd7-9028-a4bfb71a1210",
   "metadata": {},
   "source": [
    "### Challenge 2\n",
    "\n",
    "Combine the mask maker and profile exercises to indentify the regions and time periods with the lowest model bias in comparison to the EN4 data. \n",
    "\n",
    "Use the standard set of regional masks."
   ]
  },
  {
   "cell_type": "markdown",
   "id": "f89f25c7-1207-4e00-9130-d4828e21c79b",
   "metadata": {},
   "source": [
    "### Challenge 3"
   ]
  },
  {
   "cell_type": "markdown",
   "id": "d7fc5936-d234-4783-97e4-62be8e649b52",
   "metadata": {},
   "source": [
    "Create your two new masks that have the most and least change in temperature over any given month."
   ]
  },
  {
   "cell_type": "markdown",
   "id": "38e177d5-dc80-45e8-8bf4-a0fd99b4fca0",
   "metadata": {},
   "source": [
    "Bonus: Repeat the process for salinity."
   ]
  }
 ],
 "metadata": {
  "kernelspec": {
   "display_name": "coast_wrk_shp",
   "language": "python",
   "name": "coast_wrk_shp"
  },
  "language_info": {
   "codemirror_mode": {
    "name": "ipython",
    "version": 3
   },
   "file_extension": ".py",
   "mimetype": "text/x-python",
   "name": "python",
   "nbconvert_exporter": "python",
   "pygments_lexer": "ipython3",
   "version": "3.10.13"
  }
 },
 "nbformat": 4,
 "nbformat_minor": 5
}
