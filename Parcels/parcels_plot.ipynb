{
 "cells": [
  {
   "cell_type": "markdown",
   "id": "1de5bd64-0887-40d3-99c2-c266398d60ec",
   "metadata": {},
   "source": [
    "Jupyter Notebook to load and plot the parcels simulation output"
   ]
  },
  {
   "cell_type": "code",
   "execution_count": null,
   "id": "6a80c021-0da3-4bf6-9476-c798692706e5",
   "metadata": {},
   "outputs": [],
   "source": [
    "#load packages\n",
    "import matplotlib.pyplot as plt\n",
    "from matplotlib import cm\n",
    "from mpl_toolkits.axes_grid1.inset_locator import inset_axes\n",
    "from netCDF4 import Dataset\n",
    "import netCDF4 as nc4\n",
    "import numpy as np\n",
    "from cartopy import config\n",
    "import cartopy.crs as ccrs\n",
    "import cartopy.feature as cfeature\n",
    "import math\n",
    "import scipy.io\n",
    "from scipy.io import loadmat\n",
    "from scipy.stats import binned_statistic_2d\n",
    "\n",
    "\n",
    "# Set some plotting defaults\n",
    "plt.rcParams['figure.figsize'] = (10, 6)\n",
    "plt.rcParams['figure.dpi'] = 100\n",
    "#read in land feature for later\n",
    "land_110m = cfeature.NaturalEarthFeature('physical', 'land', '110m',\n",
    "                                        edgecolor='face',\n",
    "                                        facecolor=cfeature.COLORS['land'])\n",
    "\n",
    "# Set general font size\n",
    "plt.rcParams['font.size'] = '16' "
   ]
  },
  {
   "cell_type": "markdown",
   "id": "15f47259-11b0-4336-9bd3-641858f6e269",
   "metadata": {},
   "source": [
    "Read in and print the variables in the netcdf file - you will need to amend the directory location to your home directory and the outfile name that you used in the parcels_run.py script"
   ]
  },
  {
   "cell_type": "code",
   "execution_count": null,
   "id": "a6e907be-f2e5-432f-aeb3-0c685ac4c5e8",
   "metadata": {},
   "outputs": [],
   "source": [
    "outfile=nc4.Dataset('/home/users/trainXXX/lagran/test.nc','r',format='NETCDF4')\n",
    "print(outfile)"
   ]
  },
  {
   "cell_type": "markdown",
   "id": "e05da28e-f626-4828-9f2e-e62c8bc27bbd",
   "metadata": {},
   "source": [
    "Read in the variables in the file"
   ]
  },
  {
   "cell_type": "markdown",
   "id": "a1450092-23f2-42db-9f1a-81b475ffb0cf",
   "metadata": {},
   "source": [
    ".T transposes the shape of the variable which makes plotting easier"
   ]
  },
  {
   "cell_type": "code",
   "execution_count": null,
   "id": "06f6a35c-4752-44a4-9bfe-53839a1d1e4c",
   "metadata": {},
   "outputs": [],
   "source": [
    "lat=outfile.variables['lat'][:,:].T #latitude in degrees \n",
    "lon=outfile.variables['lon'][:,:].T #longitude in degrees\n",
    "depth=outfile.variables['z'][:,:].T #depth in meters\n",
    "time=outfile.variables['time'][:,:].T #time in seconds\n",
    "bathy=outfile.variables['bathy'][:,:].T #bathymetry depth in meters\n",
    "mld=outfile.variables['mld'][:,:].T #along trajectory mixed layer depth in meters\n",
    "obs=outfile.variables['obs'][:].T #number of outputted timesteps\n",
    "traj=outfile.variables['trajectory'][:].T #trajectory number"
   ]
  },
  {
   "cell_type": "markdown",
   "id": "91b34aa1-d7d0-4322-af5c-77638315105a",
   "metadata": {},
   "source": [
    "Explore what the different variables look like by changing the var=XXX - if you pick a one dimensional variable you will need to change var[:,:] to var[:]"
   ]
  },
  {
   "cell_type": "code",
   "execution_count": null,
   "id": "f0c442d0-8353-4125-868e-414251798880",
   "metadata": {},
   "outputs": [],
   "source": [
    "var=depth #change variable name here\n",
    "print(var[2,0:100])\n",
    "print(var.shape) #shape of the variables\n",
    "\n",
    "var=mld #change variable name here\n",
    "print(var[0:5,0:20])\n",
    "print(var.shape) #shape of the variables"
   ]
  },
  {
   "cell_type": "markdown",
   "id": "b08e76c7-4436-4a48-b676-1c6236a339fe",
   "metadata": {},
   "source": [
    "Let's convert the time variable into a more useful format as it's currently in seconds"
   ]
  },
  {
   "cell_type": "code",
   "execution_count": null,
   "id": "1fa82c06-ab00-45c8-b048-1b48bed784da",
   "metadata": {},
   "outputs": [],
   "source": [
    "time_days=time.copy()/86400 #number of seconds in a day # converting to days from start of simulation\n",
    "print(time_days[:,0])\n",
    "#but we have also divided the fill value of -9.22337204e+18 by 86400 - let's get rid of this\n",
    "time_days[time_days==-106751991167300.64]=np.nan #replace with NaNs\n",
    "print(time_days[:,0])"
   ]
  },
  {
   "cell_type": "markdown",
   "id": "a4194c3a-1446-49a6-9d10-f21dbaf2f2d0",
   "metadata": {},
   "source": [
    "Plot the trajectory release grid"
   ]
  },
  {
   "cell_type": "code",
   "execution_count": null,
   "id": "5372f876-c698-4274-a594-c57c64c98416",
   "metadata": {},
   "outputs": [],
   "source": [
    "plt.figure()\n",
    "plt.scatter(lon[0,:],lat[0,:])\n",
    "plt.xlabel('Longitude')\n",
    "plt.ylabel('Latitude')\n",
    "plt.show()\n",
    "plt.close()"
   ]
  },
  {
   "cell_type": "code",
   "execution_count": null,
   "id": "d0b479b7-54b5-4b4c-8729-09ef19349264",
   "metadata": {},
   "outputs": [],
   "source": [
    "#the positive and negative longitude values are separated to avoid stripes along the plot if a trajectory crosses -180 to 180 or vice versa\n",
    "lon_180_0=lon.copy()\n",
    "lon_180_0[lon>0]=np.nan\n",
    "lon_0_180=lon.copy()\n",
    "lon_0_180[lon<0]=np.nan\n",
    "\n",
    "plt.figure()\n",
    "plt.plot(lon_180_0,lat,zorder=0) # plotting trajectory lon and lats\n",
    "plt.plot(lon_0_180,lat,zorder=0) # plotting trajectory lon and lats\n",
    "plt.scatter(lon[0,:],lat[0,:],c='k',s=0.9)\n",
    "plt.xlabel('Longitude')\n",
    "plt.ylabel('Latitude')\n",
    "plt.show()\n",
    "plt.close()"
   ]
  },
  {
   "cell_type": "markdown",
   "id": "5be2071a-963f-452f-8e78-c774c2da6a3e",
   "metadata": {},
   "source": [
    "Let's plot a map of trajectories - adjust the lon and lat range to zoom in to the correct area"
   ]
  },
  {
   "cell_type": "code",
   "execution_count": null,
   "id": "914b9a75-f338-43d6-a765-5fa2897a6f77",
   "metadata": {},
   "outputs": [],
   "source": [
    "xmin=-180 #set minimum longitude limit\n",
    "xmax=180 #set maximum longitude limit\n",
    "ymin=-90 #set minimum latitude limit\n",
    "ymax=90 #set maximum longitude limit\n",
    "xint=30 #set xtick interval\n",
    "yint=30 #set ytick interval\n",
    "\n",
    "\n",
    "\n",
    "plt.figure()\n",
    "ax1=plt.subplot(1,1,1,projection=ccrs.PlateCarree())\n",
    "plot1 = ax1.plot(lon_180_0,lat,transform=ccrs.PlateCarree(),zorder=-1) # plotting trajectory lon and lats\n",
    "plot2 = ax1.plot(lon_0_180,lat,transform=ccrs.PlateCarree(),zorder=-1) # plotting trajectory lon and lats\n",
    "ax1.scatter(lon[0,:],lat[0,:],c='k',s=0.4)\n",
    "ax1.add_feature(land_110m,facecolor='gray')\n",
    "ax1.coastlines(resolution='110m')\n",
    "ax1.set_ylim([ymin,ymax])\n",
    "ax1.set_xlim([xmin,xmax])\n",
    "ax1.set_xticks(np.arange(xmin,xmax+0.5, step=xint))\n",
    "ax1.set_yticks(np.arange(ymin, ymax+0.5, step=yint))\n",
    "ax1.set_xlabel('Longitude')\n",
    "ax1.set_ylabel('Latitude')\n",
    "plt.show()\n",
    "plt.close()"
   ]
  },
  {
   "cell_type": "markdown",
   "id": "d5a08885-a137-4c47-9ec3-bfcad24de2c7",
   "metadata": {},
   "source": [
    "Plot showing how the depth of the trajectories change with time "
   ]
  },
  {
   "cell_type": "code",
   "execution_count": null,
   "id": "e8498b0e-3c04-465c-9289-8f0babe353eb",
   "metadata": {},
   "outputs": [],
   "source": [
    "plt.figure()\n",
    "plt.plot(time_days,depth)\n",
    "plt.gca().invert_yaxis()\n",
    "plt.xlabel('Time (days from start of simulation)')\n",
    "plt.ylabel('Depth (m)')\n",
    "plt.show()\n",
    "plt.close()"
   ]
  },
  {
   "cell_type": "markdown",
   "id": "37dd0998-ab01-43a9-bb23-5c318a751859",
   "metadata": {},
   "source": [
    "Plot a heatmaps of the trajectory density - the warmer the colour the more trajectory timesteps that passed through that grid cell"
   ]
  },
  {
   "cell_type": "code",
   "execution_count": null,
   "id": "389b53d5-c8d3-40bc-9bda-a5c975f68e3f",
   "metadata": {},
   "outputs": [],
   "source": [
    "#create meshgrid and arrange data\n",
    "xgrid=np.arange(-180,180.25,1) #change the final number to indicate grid resolution, 1=1 degree\n",
    "ygrid=np.arange(-90,90.25,1) #change the final number to indicate grid resolution, 1=1 degree\n",
    "\n",
    "#grid lon and lat and bin the data\n",
    "X, Y= np.meshgrid(xgrid,ygrid)\n",
    "histgrid, xgrid, ygrid= np.histogram2d(lon.flatten(),lat.flatten(), bins=(xgrid, ygrid))\n",
    "\n",
    "#plot figure\n",
    "plt.figure()\n",
    "ax1=plt.subplot(1,1,1,projection=ccrs.PlateCarree())\n",
    "axins1 = inset_axes(ax1,\n",
    "                   width=\"5%\",  # width = 5% of parent_bbox width\n",
    "                   height=\"100%\",  # height : 50%\n",
    "                   loc='lower left',\n",
    "                   bbox_to_anchor=(1.05, 0., 1, 1),\n",
    "                   bbox_transform=ax1.transAxes,\n",
    "                   borderpad=0)\n",
    "cmap=cm.get_cmap(\"plasma\",lut=24)\n",
    "plot1=ax1.pcolormesh(X,Y,histgrid.T,cmap=cmap,vmin=1,transform=ccrs.PlateCarree())\n",
    "plot1.cmap.set_under('w')\n",
    "ax1.add_feature(land_110m,facecolor='gray')\n",
    "ax1.coastlines(resolution='110m')\n",
    "cb1=plt.colorbar(plot1,cax=axins1)\n",
    "cb1.set_label('Trajectory Density')\n",
    "ax1.set_ylim([ymin,ymax])\n",
    "ax1.set_xlim([xmin,xmax])\n",
    "ax1.set_xticks(np.arange(xmin,xmax+0.5, step=xint))\n",
    "ax1.set_yticks(np.arange(ymin, ymax+0.5, step=yint))\n",
    "ax1.set_xlabel('Longitude')\n",
    "ax1.set_ylabel('Latitude')\n",
    "plt.show()\n",
    "plt.close()\n",
    "\n"
   ]
  },
  {
   "cell_type": "markdown",
   "id": "356e5190-a96e-4427-af4e-f8179847bb28",
   "metadata": {},
   "source": [
    "Sequestration Efficiency Calculations similar to Baker et al. (2022)"
   ]
  },
  {
   "cell_type": "raw",
   "id": "566603ea-12a7-46f5-9020-a20adde622d9",
   "metadata": {},
   "source": [
    "This will only be interesting if particles were released shallower than 1000m (but deeper than the summer MLD) or in regions with deep winter mixed layers\n"
   ]
  },
  {
   "cell_type": "code",
   "execution_count": null,
   "id": "3795519e-9b50-481d-bf17-a9fb24b4ff1f",
   "metadata": {},
   "outputs": [],
   "source": [
    "#create variable to indicate where the trajectory is within the MLD\n",
    "reentrain=depth.copy()\n",
    "reentrain[0,:]=np.nan\n",
    "reentrain[depth>mld]=0 \n",
    "reentrain[depth<mld]=1\n",
    "\n",
    "#indicate which trajectories were reentrained into the mixed layer\n",
    "reen_traj=np.nansum(reentrain,axis=0)\n",
    "reen_traj[reen_traj>=1]=1\n",
    "\n",
    "#calculate the sequestration efficiency of the simulation\n",
    "seqeff=100-(np.nansum(reen_traj)/len(depth[0,:])*100)\n",
    "\n",
    "#change YY to depth of particle release and change XX to length of simulation in years\n",
    "print('Sequestration Efficiency (%) at YY m over timescales of XX years')\n",
    "print(np.round(seqeff,2))"
   ]
  },
  {
   "cell_type": "markdown",
   "id": "c78e992c-85f3-4f9c-8825-0f39b9c88987",
   "metadata": {},
   "source": [
    "Let's check that the calculated sequestration efficiency seems correct but looking at the data - all dark blue plots == 100% sequestration efficiency, in plot b) all yellow markers at one timestep == 0% sequestration efficiency"
   ]
  },
  {
   "cell_type": "code",
   "execution_count": null,
   "id": "7fc102ba-012a-4303-9923-bfb0cee4e206",
   "metadata": {},
   "outputs": [],
   "source": [
    "plt.figure()\n",
    "plt.scatter(depth,mld,c=reentrain,s=3)\n",
    "plt.xlim([0,900])\n",
    "plt.ylim([0,900]) #you may need to expand these limits if the plot is empty\n",
    "plt.colorbar()\n",
    "plt.xlabel('Depth (m)')\n",
    "plt.ylabel('MLD (m)')\n",
    "plt.title('Yellow markers = trajectory timesteps in the mixed layer',fontsize=12)\n",
    "plt.show()\n",
    "plt.close()\n",
    "\n",
    "plt.figure()\n",
    "plt.scatter(time_days, depth,c=reentrain,s=1)\n",
    "plt.gca().invert_yaxis()\n",
    "plt.colorbar()\n",
    "plt.xlabel('Time (days from start of simulation')\n",
    "plt.ylabel('Depth(m)')\n",
    "plt.show()\n",
    "plt.close()"
   ]
  },
  {
   "cell_type": "markdown",
   "id": "ee41872c-112b-46ad-aeac-5b73450dcbc6",
   "metadata": {},
   "source": [
    "Plot a map of the spatial sequestration efficiency at the release location"
   ]
  },
  {
   "cell_type": "code",
   "execution_count": null,
   "id": "f296b8ec",
   "metadata": {},
   "outputs": [],
   "source": [
    "#some calculations to get the gridded sequestration efficiency\n",
    "reen_grid=reentrain.copy()\n",
    "reen_lat=np.full([len(reen_grid[:,0]),len(reen_grid[0,:])],np.nan)\n",
    "reen_lon=np.full([len(reen_grid[:,0]),len(reen_grid[0,:])],np.nan)\n",
    "\n",
    "for i in range(0,len(reen_grid[0,:]),1):\n",
    "    reen_first=0\n",
    "    for j in range(0,len(reen_grid[:,0]),1):\n",
    "        if reen_first==1 and reen_grid[j,i]==1:\n",
    "            reen_grid[j,i]=0\n",
    "            \n",
    "        elif reen_first==0 and reen_grid[j,i]==1:\n",
    "            reen_first=1\n",
    "            reen_lat[j,i]=lat[0,i]\n",
    "            reen_lon[j,i]=lon[0,i]\n",
    "            \n",
    "            \n",
    "rel_lon=lon[0,:]\n",
    "rel_lat=lat[0,:]\n",
    "rel_traj=depth[0,:]\n",
    "rel_traj[rel_traj>0]=1\n",
    "\n",
    "xi = np.arange(-180,180.25,1)\n",
    "yi = np.arange(-90,90.25,1)\n",
    "#calculate how many retrained \n",
    "reen_sum=scipy.stats.binned_statistic_2d(reen_lon.flatten(), reen_lat.flatten(), reen_grid.flatten(), statistic='sum', bins=[xi,yi], range=None, expand_binnumbers=False).statistic\n",
    "print('Number of trajectories reentrained into the mixed layer')\n",
    "print(np.nansum(reen_sum))\n",
    "\n",
    "rel_sum=scipy.stats.binned_statistic_2d(rel_lon.flatten(), rel_lat.flatten(), rel_traj.flatten(), statistic='sum', bins=[xi,yi], range=None, expand_binnumbers=False).statistic\n",
    "print('Number of trajectories in the simulation')\n",
    "print(np.nansum(rel_sum))\n",
    "\n",
    "#calculate the gridded sequestration efficiency\n",
    "seqeff_grid=100-((reen_sum/rel_sum)*100)"
   ]
  },
  {
   "cell_type": "code",
   "execution_count": null,
   "id": "81144df8-a631-4236-8b4b-835910998f38",
   "metadata": {},
   "outputs": [],
   "source": [
    "levls=np.linspace(0,100,11)\n",
    "#plot figure\n",
    "plt.figure()\n",
    "ax1=plt.subplot(1,1,1,projection=ccrs.PlateCarree())\n",
    "axins1 = inset_axes(ax1,\n",
    "                   width=\"5%\",  # width = 5% of parent_bbox width\n",
    "                   height=\"100%\",  # height : 50%\n",
    "                   loc='lower left',\n",
    "                   bbox_to_anchor=(1.05, 0., 1, 1),\n",
    "                   bbox_transform=ax1.transAxes,\n",
    "                   borderpad=0)\n",
    "cmap=cm.get_cmap(\"plasma\",lut=20)\n",
    "plot1=ax1.pcolormesh(xi[0:len(xi)-1],yi[0:len(yi)-1],seqeff_grid.T,vmin=0,vmax=100,cmap=cmap,transform=ccrs.PlateCarree())\n",
    "plot1.cmap.set_under('w')\n",
    "ax1.add_feature(land_110m,facecolor='gray')\n",
    "ax1.coastlines(resolution='110m')\n",
    "cb1=plt.colorbar(plot1,cax=axins1,ticks=levls)\n",
    "cb1.set_label('Sequestration Efficiency (%)')\n",
    "ax1.set_ylim([ymin,ymax])\n",
    "ax1.set_xlim([xmin,xmax])\n",
    "ax1.set_xticks(np.arange(xmin,xmax+0.5, step=xint))\n",
    "ax1.set_yticks(np.arange(ymin, ymax+0.5, step=yint))\n",
    "ax1.set_xlabel('Longitude')\n",
    "ax1.set_ylabel('Latitude')\n",
    "plt.show()\n",
    "plt.close()"
   ]
  },
  {
   "cell_type": "markdown",
   "id": "bee3a735-37a6-42c2-a205-22bcb84cb81b",
   "metadata": {},
   "source": [
    "Now switch back to the task sheet to run the trajectory_metrics.py script to calculate distances and speed"
   ]
  },
  {
   "cell_type": "markdown",
   "id": "e10e1943-74c1-41f5-866e-90c2ef642d9f",
   "metadata": {},
   "source": [
    "Keep exploring the simulation results by creating your own plots below... have fun!  "
   ]
  },
  {
   "cell_type": "code",
   "execution_count": null,
   "id": "4d30b446-eb3b-430e-a76e-e794ed34f4e4",
   "metadata": {},
   "outputs": [],
   "source": [
    "#make more plots here..."
   ]
  },
  {
   "cell_type": "code",
   "execution_count": null,
   "id": "b79d3e63-706f-4b17-8c7b-79077b29f78d",
   "metadata": {},
   "outputs": [],
   "source": []
  }
 ],
 "metadata": {
  "kernelspec": {
   "display_name": "Python 3 + Jaspy",
   "language": "python",
   "name": "jaspy"
  },
  "language_info": {
   "codemirror_mode": {
    "name": "ipython",
    "version": 3
   },
   "file_extension": ".py",
   "mimetype": "text/x-python",
   "name": "python",
   "nbconvert_exporter": "python",
   "pygments_lexer": "ipython3",
   "version": "3.10.8"
  }
 },
 "nbformat": 4,
 "nbformat_minor": 5
}
